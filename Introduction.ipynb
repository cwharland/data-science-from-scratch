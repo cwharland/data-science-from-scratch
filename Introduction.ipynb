{
 "cells": [
  {
   "cell_type": "markdown",
   "metadata": {},
   "source": [
    "### Find \"key connectors\" in the following graph"
   ]
  },
  {
   "cell_type": "code",
   "execution_count": 35,
   "metadata": {
    "collapsed": true
   },
   "outputs": [],
   "source": [
    "from __future__ import division"
   ]
  },
  {
   "cell_type": "code",
   "execution_count": 22,
   "metadata": {
    "collapsed": true
   },
   "outputs": [],
   "source": [
    "users = [\n",
    "        { \"id\": 0, \"name\": \"Hero\" },\n",
    "        { \"id\": 1, \"name\": \"Dunn\" },\n",
    "        { \"id\": 2, \"name\": \"Sue\" },\n",
    "        { \"id\": 3, \"name\": \"Chi\" },\n",
    "        { \"id\": 4, \"name\": \"Thor\" },\n",
    "        { \"id\": 5, \"name\": \"Clive\" },\n",
    "        { \"id\": 6, \"name\": \"Hicks\" },\n",
    "        { \"id\": 7, \"name\": \"Devin\" },\n",
    "        { \"id\": 8, \"name\": \"Kate\" },\n",
    "        { \"id\": 9, \"name\": \"Klein\" }\n",
    "]"
   ]
  },
  {
   "cell_type": "code",
   "execution_count": 23,
   "metadata": {
    "collapsed": false
   },
   "outputs": [],
   "source": [
    "friendships = [(0, 1), (0, 2), (1, 2), (1, 3), (2, 3), (3, 4), (4, 5), (5, 6), (5, 7), (6, 8), (7, 8), (8, 9)]"
   ]
  },
  {
   "cell_type": "code",
   "execution_count": 24,
   "metadata": {
    "collapsed": false
   },
   "outputs": [],
   "source": [
    "# Add a list of friends to each user for reference\n",
    "for user in users:\n",
    "    user['friends'] = []\n",
    "    \n",
    "# Populate with friends\n",
    "for i,j in friendships:\n",
    "    users[i]['friends'].append(users[j]) # adding j as friend to i\n",
    "    users[j]['friends'].append(users[i]) # reciprocate"
   ]
  },
  {
   "cell_type": "code",
   "execution_count": 28,
   "metadata": {
    "collapsed": true
   },
   "outputs": [],
   "source": [
    "# How many friends?\n",
    "def number_of_friends(user):\n",
    "    return len(user['friends'])"
   ]
  },
  {
   "cell_type": "code",
   "execution_count": 32,
   "metadata": {
    "collapsed": false
   },
   "outputs": [
    {
     "data": {
      "text/plain": [
       "[2, 3, 3, 3, 2, 3, 2, 2, 3, 1]"
      ]
     },
     "execution_count": 32,
     "metadata": {},
     "output_type": "execute_result"
    }
   ],
   "source": [
    "# each user's friend count\n",
    "[number_of_friends(u) for u in users]"
   ]
  },
  {
   "cell_type": "code",
   "execution_count": 33,
   "metadata": {
    "collapsed": true
   },
   "outputs": [],
   "source": [
    "# total count\n",
    "total_connections = sum([number_of_friends(u) for u in users])"
   ]
  },
  {
   "cell_type": "code",
   "execution_count": 34,
   "metadata": {
    "collapsed": false
   },
   "outputs": [
    {
     "data": {
      "text/plain": [
       "24"
      ]
     },
     "execution_count": 34,
     "metadata": {},
     "output_type": "execute_result"
    }
   ],
   "source": [
    "total_connections"
   ]
  },
  {
   "cell_type": "code",
   "execution_count": 38,
   "metadata": {
    "collapsed": true
   },
   "outputs": [],
   "source": [
    "# Gotta have da total if ya gonna get da average\n",
    "num_users = len(users)\n",
    "\n",
    "avg_connections = total_connections / num_users"
   ]
  },
  {
   "cell_type": "code",
   "execution_count": 39,
   "metadata": {
    "collapsed": false
   },
   "outputs": [
    {
     "data": {
      "text/plain": [
       "2.4"
      ]
     },
     "execution_count": 39,
     "metadata": {},
     "output_type": "execute_result"
    }
   ],
   "source": [
    "avg_connections"
   ]
  },
  {
   "cell_type": "markdown",
   "metadata": {},
   "source": [
    "### Find the people with the most friends"
   ]
  },
  {
   "cell_type": "code",
   "execution_count": 40,
   "metadata": {
    "collapsed": true
   },
   "outputs": [],
   "source": [
    "num_friends_by_id = [(u['id'], number_of_friends(u)) for u in users]"
   ]
  },
  {
   "cell_type": "code",
   "execution_count": 43,
   "metadata": {
    "collapsed": false
   },
   "outputs": [
    {
     "data": {
      "text/plain": [
       "[(1, 3),\n",
       " (2, 3),\n",
       " (3, 3),\n",
       " (5, 3),\n",
       " (8, 3),\n",
       " (0, 2),\n",
       " (4, 2),\n",
       " (6, 2),\n",
       " (7, 2),\n",
       " (9, 1)]"
      ]
     },
     "execution_count": 43,
     "metadata": {},
     "output_type": "execute_result"
    }
   ],
   "source": [
    "sorted(num_friends_by_id, key = lambda x: x[1], reverse=True)"
   ]
  },
  {
   "cell_type": "markdown",
   "metadata": {},
   "source": [
    "### People you may know"
   ]
  },
  {
   "cell_type": "code",
   "execution_count": 48,
   "metadata": {
    "collapsed": true
   },
   "outputs": [],
   "source": [
    "# Brute force try\n",
    "def friends_of_friends_ids_bad(user):\n",
    "    return [foaf['id']\n",
    "            for friend in user['friends'] # for all the friends\n",
    "            for foaf in friend['friends']] # get their friends"
   ]
  },
  {
   "cell_type": "code",
   "execution_count": 49,
   "metadata": {
    "collapsed": false
   },
   "outputs": [
    {
     "data": {
      "text/plain": [
       "[0, 2, 3, 0, 1, 3]"
      ]
     },
     "execution_count": 49,
     "metadata": {},
     "output_type": "execute_result"
    }
   ],
   "source": [
    "friends_of_friends_ids_bad(users[0])"
   ]
  },
  {
   "cell_type": "code",
   "execution_count": 60,
   "metadata": {
    "collapsed": false
   },
   "outputs": [],
   "source": [
    "# redo this accounting for dupes and self\n",
    "\n",
    "from collections import Counter\n",
    "\n",
    "def not_the_same(user, other_user):\n",
    "    # check if two users are the same\n",
    "    return user['id'] != other_user['id']\n",
    "\n",
    "def not_friends(user, other_user):\n",
    "    # Check if other user is in friends list of user\n",
    "    return all(not_the_same(friend, other_user)\n",
    "              for friend in user['friends'])\n",
    "\n",
    "def friends_of_friend_ids(user):\n",
    "    return Counter(foaf['id']\n",
    "                  for friend in user['friends'] # check user friends\n",
    "                  for foaf in friend['friends'] # and count their friends\n",
    "                  if not_the_same(user, foaf) # as long as they aren't user\n",
    "                  and not_friends(user, foaf)) # and not my friend"
   ]
  },
  {
   "cell_type": "code",
   "execution_count": 62,
   "metadata": {
    "collapsed": false
   },
   "outputs": [
    {
     "data": {
      "text/plain": [
       "[Counter({3: 2}),\n",
       " Counter({4: 1}),\n",
       " Counter({4: 1}),\n",
       " Counter({0: 2, 5: 1}),\n",
       " Counter({1: 1, 2: 1, 6: 1, 7: 1}),\n",
       " Counter({8: 2, 3: 1}),\n",
       " Counter({7: 2, 9: 1, 4: 1}),\n",
       " Counter({6: 2, 9: 1, 4: 1}),\n",
       " Counter({5: 2}),\n",
       " Counter({6: 1, 7: 1})]"
      ]
     },
     "execution_count": 62,
     "metadata": {},
     "output_type": "execute_result"
    }
   ],
   "source": [
    "[friends_of_friend_ids(u) for u in users]"
   ]
  },
  {
   "cell_type": "markdown",
   "metadata": {},
   "source": [
    "### Let's try recommending via interests"
   ]
  },
  {
   "cell_type": "code",
   "execution_count": 63,
   "metadata": {
    "collapsed": true
   },
   "outputs": [],
   "source": [
    "interests = [\n",
    "        (0, \"Hadoop\"), (0, \"Big Data\"), (0, \"HBase\"), (0, \"Java\"),\n",
    "        (0, \"Spark\"), (0, \"Storm\"), (0, \"Cassandra\"),\n",
    "        (1, \"NoSQL\"), (1, \"MongoDB\"), (1, \"Cassandra\"), (1, \"HBase\"),\n",
    "        (1, \"Postgres\"), (2, \"Python\"), (2, \"scikit-learn\"), (2, \"scipy\"),\n",
    "        (2, \"numpy\"), (2, \"statsmodels\"), (2, \"pandas\"), (3, \"R\"), (3, \"Python\"),\n",
    "        (3, \"statistics\"), (3, \"regression\"), (3, \"probability\"),\n",
    "        (4, \"machine learning\"), (4, \"regression\"), (4, \"decision trees\"),\n",
    "        (4, \"libsvm\"), (5, \"Python\"), (5, \"R\"), (5, \"Java\"), (5, \"C++\"),\n",
    "        (5, \"Haskell\"), (5, \"programming languages\"), (6, \"statistics\"),\n",
    "        (6, \"probability\"), (6, \"mathematics\"), (6, \"theory\"),\n",
    "        (7, \"machine learning\"), (7, \"scikit-learn\"), (7, \"Mahout\"),\n",
    "        (7, \"neural networks\"), (8, \"neural networks\"), (8, \"deep learning\"),\n",
    "        (8, \"Big Data\"), (8, \"artificial intelligence\"), (9, \"Hadoop\"),\n",
    "        (9, \"Java\"), (9, \"MapReduce\"), (9, \"Big Data\")\n",
    "]"
   ]
  },
  {
   "cell_type": "code",
   "execution_count": null,
   "metadata": {
    "collapsed": true
   },
   "outputs": [],
   "source": []
  }
 ],
 "metadata": {
  "kernelspec": {
   "display_name": "Python 2",
   "language": "python",
   "name": "python2"
  },
  "language_info": {
   "codemirror_mode": {
    "name": "ipython",
    "version": 2
   },
   "file_extension": ".py",
   "mimetype": "text/x-python",
   "name": "python",
   "nbconvert_exporter": "python",
   "pygments_lexer": "ipython2",
   "version": "2.7.9"
  }
 },
 "nbformat": 4,
 "nbformat_minor": 0
}
