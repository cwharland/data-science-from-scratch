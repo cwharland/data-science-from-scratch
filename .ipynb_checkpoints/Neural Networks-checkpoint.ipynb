{
 "cells": [
  {
   "cell_type": "code",
   "execution_count": 29,
   "metadata": {
    "collapsed": true
   },
   "outputs": [],
   "source": [
    "from __future__ import division\n",
    "import math\n",
    "import random\n",
    "from lin_alg import dot"
   ]
  },
  {
   "cell_type": "markdown",
   "metadata": {},
   "source": [
    "### Perceptrons"
   ]
  },
  {
   "cell_type": "code",
   "execution_count": 5,
   "metadata": {
    "collapsed": true
   },
   "outputs": [],
   "source": [
    "def step_function(x):\n",
    "    return 1 if x >= 0 else 0\n",
    "\n",
    "def perceptron_output(weights, bias, x):\n",
    "    \"\"\"returns 1 if perceptron fires, 0 if not\"\"\"\n",
    "    calculation = dot(weights, x) + bias\n",
    "    return step_function(calculation)"
   ]
  },
  {
   "cell_type": "markdown",
   "metadata": {},
   "source": [
    "### Feed Forward NN"
   ]
  },
  {
   "cell_type": "code",
   "execution_count": 6,
   "metadata": {
    "collapsed": true
   },
   "outputs": [],
   "source": [
    "def sigmoid(t):\n",
    "    return 1.0 / (1 + math.exp(-t))\n",
    "\n",
    "def neuron_output(weights, inputs):\n",
    "    return sigmoid(dot(weights, inputs))"
   ]
  },
  {
   "cell_type": "code",
   "execution_count": 22,
   "metadata": {
    "collapsed": true
   },
   "outputs": [],
   "source": [
    "# NN is then a list of lists of lists (where layers have neurons that have weights)\n",
    "\n",
    "def feed_forward(neural_network, input_vector):\n",
    "    \"\"\"NN (list of lists of lists)\n",
    "    returns output from forward prop\"\"\"\n",
    "    \n",
    "    outputs = []\n",
    "    \n",
    "    # for each layer add bias, compute output, pass on\n",
    "    for layer in neural_network:\n",
    "        input_with_bias = input_vector + [1]\n",
    "        output = [neuron_output(neuron, input_with_bias)\n",
    "                 for neuron in layer]\n",
    "        outputs.append(output)\n",
    "        \n",
    "        input_vector = output\n",
    "        \n",
    "    return outputs"
   ]
  },
  {
   "cell_type": "markdown",
   "metadata": {},
   "source": [
    "### Backpropogation\n",
    "\n",
    "1. Run `feed_forward` on an input to get an output\n",
    "2. Calculate the error of that output\n",
    "3. Calculate the gradient of the error as a func of weights and adjust the weights to decrease the error (gradient descent ish)\n",
    "4. Propogate these weight changes into the hidden layers\n",
    "5. Compute the errors and adjust in hidden layer as above\n",
    "6. Repeat until error drops below tolerance (convergence)"
   ]
  },
  {
   "cell_type": "code",
   "execution_count": 23,
   "metadata": {
    "collapsed": true
   },
   "outputs": [],
   "source": [
    "def backpropogate(network, input_vector, targets):\n",
    "    \n",
    "    hidden_outputs, outputs = feed_forward(network, input_vector)\n",
    "    \n",
    "    # recall derivative of sigmoid is same as logit\n",
    "    output_deltas = [output * (1 - output) * (output - target)\n",
    "                    for output, target in zip(outputs, targets)]\n",
    "    \n",
    "    # adjust weights gradient descent style\n",
    "    for i, output_neuron in enumerate(network[-1]):\n",
    "        # iterate over hidden layers\n",
    "        for j, hidden_output in enumerate(hidden_outputs + [1]):\n",
    "            output_neuron[j] -= output_deltas[i] * hidden_output\n",
    "            \n",
    "    # now propogate this change backward\n",
    "    hidden_deltas = [hidden_output * (1 - hidden_output) * \n",
    "                    dot(output_deltas, [n[i] for n in output_layer])\n",
    "                    for i, hidden_output in enumerate(hidden_outputs)]\n",
    "    \n",
    "    # adjust weights\n",
    "    for i, hidden_neuron in enumerate(network[0]):\n",
    "        for j, input in enumerate(input_vector + [1]):\n",
    "            hidden_neuron[j] -= hidden_deltas[i] * input"
   ]
  },
  {
   "cell_type": "code",
   "execution_count": 24,
   "metadata": {
    "collapsed": true
   },
   "outputs": [],
   "source": [
    "raw_digits = [\n",
    "          \"\"\"11111\n",
    "             1...1\n",
    "             1...1\n",
    "             1...1\n",
    "             11111\"\"\",\n",
    "             \n",
    "          \"\"\"..1..\n",
    "             ..1..\n",
    "             ..1..\n",
    "             ..1..\n",
    "             ..1..\"\"\",\n",
    "             \n",
    "          \"\"\"11111\n",
    "             ....1\n",
    "             11111\n",
    "             1....\n",
    "             11111\"\"\",\n",
    "             \n",
    "          \"\"\"11111\n",
    "             ....1\n",
    "             11111\n",
    "             ....1\n",
    "             11111\"\"\",     \n",
    "             \n",
    "          \"\"\"1...1\n",
    "             1...1\n",
    "             11111\n",
    "             ....1\n",
    "             ....1\"\"\",             \n",
    "             \n",
    "          \"\"\"11111\n",
    "             1....\n",
    "             11111\n",
    "             ....1\n",
    "             11111\"\"\",   \n",
    "             \n",
    "          \"\"\"11111\n",
    "             1....\n",
    "             11111\n",
    "             1...1\n",
    "             11111\"\"\",             \n",
    "\n",
    "          \"\"\"11111\n",
    "             ....1\n",
    "             ....1\n",
    "             ....1\n",
    "             ....1\"\"\",\n",
    "             \n",
    "          \"\"\"11111\n",
    "             1...1\n",
    "             11111\n",
    "             1...1\n",
    "             11111\"\"\",    \n",
    "             \n",
    "          \"\"\"11111\n",
    "             1...1\n",
    "             11111\n",
    "             ....1\n",
    "             11111\"\"\"]\n",
    "\n",
    "def make_digit(raw_digit):\n",
    "        return [1 if c == '1' else 0\n",
    "                for row in raw_digit.split(\"\\n\")\n",
    "                for c in row.strip()]\n",
    "                \n",
    "inputs = map(make_digit, raw_digits)"
   ]
  },
  {
   "cell_type": "code",
   "execution_count": 25,
   "metadata": {
    "collapsed": true
   },
   "outputs": [],
   "source": [
    "targets = [[1 if i == j else 0 for i in range(10)]\n",
    "          for j in range(10)]"
   ]
  },
  {
   "cell_type": "code",
   "execution_count": 26,
   "metadata": {
    "collapsed": false
   },
   "outputs": [
    {
     "data": {
      "text/plain": [
       "[[1, 0, 0, 0, 0, 0, 0, 0, 0, 0],\n",
       " [0, 1, 0, 0, 0, 0, 0, 0, 0, 0],\n",
       " [0, 0, 1, 0, 0, 0, 0, 0, 0, 0],\n",
       " [0, 0, 0, 1, 0, 0, 0, 0, 0, 0],\n",
       " [0, 0, 0, 0, 1, 0, 0, 0, 0, 0],\n",
       " [0, 0, 0, 0, 0, 1, 0, 0, 0, 0],\n",
       " [0, 0, 0, 0, 0, 0, 1, 0, 0, 0],\n",
       " [0, 0, 0, 0, 0, 0, 0, 1, 0, 0],\n",
       " [0, 0, 0, 0, 0, 0, 0, 0, 1, 0],\n",
       " [0, 0, 0, 0, 0, 0, 0, 0, 0, 1]]"
      ]
     },
     "execution_count": 26,
     "metadata": {},
     "output_type": "execute_result"
    }
   ],
   "source": [
    "targets"
   ]
  },
  {
   "cell_type": "code",
   "execution_count": 27,
   "metadata": {
    "collapsed": false
   },
   "outputs": [],
   "source": [
    "random.seed(0)\n",
    "\n",
    "input_size = 25\n",
    "num_hidden = 5\n",
    "output_size = 10\n",
    "\n",
    "hidden_layer = [[random.random() for _ in range(input_size + 1)]\n",
    "               for _ in range(num_hidden)]\n",
    "\n",
    "output_layer = [[random.random() for _ in range(num_hidden + 1)]\n",
    "               for _ in range(output_size)]\n",
    "\n",
    "network = [hidden_layer, output_layer]"
   ]
  },
  {
   "cell_type": "code",
   "execution_count": 30,
   "metadata": {
    "collapsed": false
   },
   "outputs": [],
   "source": [
    "for _ in range(10000):\n",
    "    for input_vector, target_vector in zip(inputs, targets):\n",
    "        backpropogate(network, input_vector, target_vector)"
   ]
  },
  {
   "cell_type": "code",
   "execution_count": 31,
   "metadata": {
    "collapsed": true
   },
   "outputs": [],
   "source": [
    "def predict(input):\n",
    "    return feed_forward(network, input)[-1]"
   ]
  },
  {
   "cell_type": "code",
   "execution_count": 32,
   "metadata": {
    "collapsed": false
   },
   "outputs": [
    {
     "data": {
      "text/plain": [
       "[0.025793093227013036,\n",
       " 1.0390112396817274e-05,\n",
       " 9.947293909617134e-11,\n",
       " 0.018331084215773293,\n",
       " 0.0008805361567366292,\n",
       " 6.518540927082727e-10,\n",
       " 3.357053164825462e-08,\n",
       " 0.9672303985483536,\n",
       " 1.2751656786725538e-08,\n",
       " 3.4087140488881706e-08]"
      ]
     },
     "execution_count": 32,
     "metadata": {},
     "output_type": "execute_result"
    }
   ],
   "source": [
    "predict(inputs[7])"
   ]
  },
  {
   "cell_type": "code",
   "execution_count": 35,
   "metadata": {
    "collapsed": true
   },
   "outputs": [],
   "source": [
    "%matplotlib inline\n",
    "import matplotlib.pyplot as plt\n",
    "from matplotlib.cm import binary\n",
    "from matplotlib.patches import Rectangle\n",
    "import seaborn as sns\n",
    "sns.set_context('poster')"
   ]
  },
  {
   "cell_type": "code",
   "execution_count": 36,
   "metadata": {
    "collapsed": false
   },
   "outputs": [
    {
     "data": {
      "image/png": "[encoded data removed]",
      "text/plain": [
       "<matplotlib.figure.Figure at 0x187a1860>"
      ]
     },
     "metadata": {},
     "output_type": "display_data"
    }
   ],
   "source": [
    "weights = network[0][0]\n",
    "abs_weights = map(abs, weights)\n",
    "\n",
    "grid = [abs_weights[row:(row + 5)]\n",
    "       for row in range(0, 25, 5)]\n",
    "\n",
    "ax = plt.gca()\n",
    "ax.imshow(grid,\n",
    "          cmap = binary,\n",
    "          interpolation = 'none')\n",
    "\n",
    "def patch(x, y, hatch, color):\n",
    "    return Rectangle((x - 0.5, y - 0.5), 1, 1,\n",
    "                    hatch = hatch, fill = False, color = color)\n",
    "\n",
    "for i in range(5):\n",
    "    for j in range(5):\n",
    "        if weights[5*i + j] < 0:\n",
    "            ax.add_patch(patch(j,i,'/','white'))\n",
    "            ax.add_patch(patch(j,i,'\\\\','black'))"
   ]
  },
  {
   "cell_type": "code",
   "execution_count": null,
   "metadata": {
    "collapsed": true
   },
   "outputs": [],
   "source": []
  }
 ],
 "metadata": {
  "kernelspec": {
   "display_name": "Python 2",
   "language": "python",
   "name": "python2"
  },
  "language_info": {
   "codemirror_mode": {
    "name": "ipython",
    "version": 2
   },
   "file_extension": ".py",
   "mimetype": "text/x-python",
   "name": "python",
   "nbconvert_exporter": "python",
   "pygments_lexer": "ipython2",
   "version": "2.7.5"
  }
 },
 "nbformat": 4,
 "nbformat_minor": 0
}
