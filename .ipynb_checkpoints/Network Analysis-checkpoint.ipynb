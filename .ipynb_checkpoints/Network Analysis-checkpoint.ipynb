{
 "cells": [
  {
   "cell_type": "code",
   "execution_count": 1,
   "metadata": {
    "collapsed": true
   },
   "outputs": [],
   "source": [
    "from __future__ import division"
   ]
  },
  {
   "cell_type": "code",
   "execution_count": 2,
   "metadata": {
    "collapsed": true
   },
   "outputs": [],
   "source": [
    "users = [{ \"id\": 0, \"name\": \"Hero\" },\n",
    "         { \"id\": 1, \"name\": \"Dunn\" },\n",
    "         { \"id\": 2, \"name\": \"Sue\" },\n",
    "         { \"id\": 3, \"name\": \"Chi\" },\n",
    "         { \"id\": 4, \"name\": \"Thor\" },\n",
    "         { \"id\": 5, \"name\": \"Clive\" },\n",
    "         { \"id\": 6, \"name\": \"Hicks\" },\n",
    "         { \"id\": 7, \"name\": \"Devin\" },\n",
    "         { \"id\": 8, \"name\": \"Kate\" },\n",
    "         { \"id\": 9, \"name\": \"Klein\" }]\n",
    "\n",
    "friendships = [(0, 1), (0, 2), (1, 2), (1, 3), (2, 3), (3, 4),\n",
    "               (4, 5), (5, 6), (5, 7), (6, 8), (7, 8), (8, 9)]"
   ]
  },
  {
   "cell_type": "code",
   "execution_count": 11,
   "metadata": {
    "collapsed": false
   },
   "outputs": [],
   "source": [
    "# make the graph\n",
    "for user in users:\n",
    "    user[\"friends\"] = []\n",
    "    \n",
    "for i,j in friendships:\n",
    "    users[i][\"friends\"].append(users[j])\n",
    "    users[j][\"friends\"].append(users[i])"
   ]
  },
  {
   "cell_type": "code",
   "execution_count": null,
   "metadata": {
    "collapsed": true
   },
   "outputs": [],
   "source": []
  }
 ],
 "metadata": {
  "kernelspec": {
   "display_name": "Python 2",
   "language": "python",
   "name": "python2"
  },
  "language_info": {
   "codemirror_mode": {
    "name": "ipython",
    "version": 2
   },
   "file_extension": ".py",
   "mimetype": "text/x-python",
   "name": "python",
   "nbconvert_exporter": "python",
   "pygments_lexer": "ipython2",
   "version": "2.7.6"
  }
 },
 "nbformat": 4,
 "nbformat_minor": 0
}
