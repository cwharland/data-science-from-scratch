{
 "cells": [
  {
   "cell_type": "code",
   "execution_count": 10,
   "metadata": {
    "collapsed": true
   },
   "outputs": [],
   "source": [
    "from __future__ import division\n",
    "import re\n",
    "from collections import defaultdict\n",
    "import math\n",
    "from collections import Counter\n",
    "from ml import *"
   ]
  },
  {
   "cell_type": "code",
   "execution_count": 2,
   "metadata": {
    "collapsed": true
   },
   "outputs": [],
   "source": [
    "# Beware underflow and use pseudo-counts to correct for rare word, label combos"
   ]
  },
  {
   "cell_type": "code",
   "execution_count": 71,
   "metadata": {
    "collapsed": false
   },
   "outputs": [],
   "source": [
    "def drop_final_s(word):\n",
    "    return re.sub(\"s$\", \"\", word)\n",
    "\n",
    "def tokenize(message, drop_s = False):\n",
    "    message = message.lower()\n",
    "    all_words = re.findall(\"[a-z0-9']+\", message)\n",
    "    if drop_s == True:\n",
    "        all_words = [drop_final_s(w)\n",
    "                     for w in all_words]\n",
    "    return set(all_words)\n",
    "\n",
    "def count_words(training_set):\n",
    "    \"\"\"training set is (message, is_spam)\"\"\"\n",
    "    \n",
    "    counts = defaultdict(lambda: [0,0])\n",
    "    \n",
    "    for message, is_spam in training_set: # for each message\n",
    "        for word in tokenize(message, drop_s=False): # split into words\n",
    "            counts[word][0 if is_spam else 1] += 1 # for the given word increment spam or not spam count\n",
    "    \n",
    "    return counts\n",
    "\n",
    "def word_probabilities(counts, total_spams, total_non_spams, k = 0.5):\n",
    "    \"\"\"take word, label counts and output conditional probabilities\"\"\"\n",
    "    return [(w,\n",
    "           (spam + k) / (total_spams + 2 * k),\n",
    "           (non_spam + k) / (total_non_spams + 2 * k))\n",
    "           for w, (spam, non_spam) in counts.iteritems()]\n",
    "\n",
    "def spam_probability(word_probs, message):\n",
    "    message_words = tokenize(message)\n",
    "    \n",
    "    log_prob_if_spam = log_prob_if_not_spam = 0.0\n",
    "    \n",
    "    # for all words in message collect probabilities\n",
    "    for word, prob_if_spam, prob_if_not_spam in word_probs:\n",
    "        if word in message_words:\n",
    "            log_prob_if_spam += math.log(prob_if_spam)\n",
    "            log_prob_if_not_spam += math.log(prob_if_not_spam)\n",
    "        else:\n",
    "            log_prob_if_spam += math.log(1.0 - prob_if_spam)\n",
    "            log_prob_if_not_spam += math.log(1.0 - prob_if_not_spam)\n",
    "    \n",
    "    prob_if_spam = math.exp(log_prob_if_spam)\n",
    "    prob_if_not_spam = math.exp(log_prob_if_not_spam)\n",
    "    \n",
    "    return prob_if_spam / (prob_if_spam + prob_if_not_spam)\n",
    "\n",
    "class NaiveBayesClassifier:\n",
    "    \n",
    "    def __init__(self, k = 0.5):\n",
    "        self.k = k\n",
    "        self.word_probs = []\n",
    "        \n",
    "    def train(self, training_set):\n",
    "        # count the spam and non-spam\n",
    "        num_spams = len([is_spam\n",
    "                        for message, is_spam in training_set\n",
    "                        if is_spam])\n",
    "        \n",
    "        num_non_spams = len(training_set) - num_spams\n",
    "        \n",
    "        # run word pipeline\n",
    "        word_counts = count_words(training_set)\n",
    "        \n",
    "        self.word_probs = word_probabilities(word_counts,\n",
    "                                            num_spams,\n",
    "                                            num_non_spams,\n",
    "                                            self.k)\n",
    "        \n",
    "    def classify(self, message):\n",
    "        return spam_probability(self.word_probs, message)\n",
    "                 \n"
   ]
  },
  {
   "cell_type": "markdown",
   "metadata": {},
   "source": [
    "### Testing"
   ]
  },
  {
   "cell_type": "code",
   "execution_count": 72,
   "metadata": {
    "collapsed": true
   },
   "outputs": [],
   "source": [
    "import glob\n",
    "\n",
    "path = r'.\\spam\\*\\*'\n",
    "\n",
    "data = []\n",
    "\n",
    "for fn in glob.glob(path):\n",
    "    is_spam = \"ham\" not in fn\n",
    "    \n",
    "    with open(fn,'r') as file:\n",
    "        for line in file:\n",
    "            if line.startswith(\"Subject:\"):\n",
    "                subject = re.sub(r\"^Subject: \", \"\", line).strip()\n",
    "                data.append((subject, is_spam))"
   ]
  },
  {
   "cell_type": "code",
   "execution_count": 73,
   "metadata": {
    "collapsed": false
   },
   "outputs": [
    {
     "data": {
      "text/plain": [
       "876"
      ]
     },
     "execution_count": 73,
     "metadata": {},
     "output_type": "execute_result"
    }
   ],
   "source": [
    "len(test_data)"
   ]
  },
  {
   "cell_type": "code",
   "execution_count": 74,
   "metadata": {
    "collapsed": false
   },
   "outputs": [],
   "source": [
    "random.seed(0)\n",
    "train_data, test_data = split_data(data, 0.75)\n",
    "\n",
    "classifier = NaiveBayesClassifier()\n",
    "\n",
    "classifier.train(train_data)"
   ]
  },
  {
   "cell_type": "code",
   "execution_count": 75,
   "metadata": {
    "collapsed": false
   },
   "outputs": [],
   "source": [
    "classified = [(subject, is_spam, classifier.classify(subject))\n",
    "             for subject, is_spam in test_data]\n",
    "\n",
    "counts = Counter((is_spam, spam_probability > 0.5)\n",
    "                for _, is_spam, spam_probability in classified)"
   ]
  },
  {
   "cell_type": "code",
   "execution_count": 76,
   "metadata": {
    "collapsed": false
   },
   "outputs": [
    {
     "data": {
      "text/plain": [
       "Counter({(False, False): 704, (True, True): 101, (True, False): 38, (False, True): 33})"
      ]
     },
     "execution_count": 76,
     "metadata": {},
     "output_type": "execute_result"
    }
   ],
   "source": [
    "counts"
   ]
  },
  {
   "cell_type": "code",
   "execution_count": 77,
   "metadata": {
    "collapsed": false
   },
   "outputs": [],
   "source": [
    "tn = counts[(False,False)]\n",
    "tp = counts[(True,True)]\n",
    "fn = counts[(True,False)]\n",
    "fp = counts[(False,True)]"
   ]
  },
  {
   "cell_type": "code",
   "execution_count": 78,
   "metadata": {
    "collapsed": false
   },
   "outputs": [
    {
     "name": "stdout",
     "output_type": "stream",
     "text": [
      "0.918949771689\n",
      "0.753731343284\n",
      "0.726618705036\n",
      "0.739926739927\n"
     ]
    }
   ],
   "source": [
    "print accuracy(tp, fp, fn, tn)\n",
    "print precision(tp, fp, fn, tn)\n",
    "print recall(tp, fp, fn, tn)\n",
    "print f1_score(tp, fp, fn, tn)"
   ]
  },
  {
   "cell_type": "code",
   "execution_count": 51,
   "metadata": {
    "collapsed": false
   },
   "outputs": [],
   "source": [
    "classified.sort(key = lambda row: row[2])"
   ]
  },
  {
   "cell_type": "code",
   "execution_count": 52,
   "metadata": {
    "collapsed": false
   },
   "outputs": [],
   "source": [
    "spammiest_hams = filter(lambda row: not row[1], classified)[-5:]"
   ]
  },
  {
   "cell_type": "code",
   "execution_count": 53,
   "metadata": {
    "collapsed": false
   },
   "outputs": [
    {
     "data": {
      "text/plain": [
       "[('Attn programmers: support offered [FLOSS-Sarai Initiative]',\n",
       "  False,\n",
       "  0.9756129605142009),\n",
       " ('2000+ year old Greek computer reinterpreted', False, 0.983535500810437),\n",
       " ('What to look for in your next smart phone (Tech Update)',\n",
       "  False,\n",
       "  0.989871920690335),\n",
       " ('[ILUG-Social] Re: Important - reenactor insurance needed',\n",
       "  False,\n",
       "  0.9995349057803377),\n",
       " ('[ILUG-Social] Re: Important - reenactor insurance needed',\n",
       "  False,\n",
       "  0.9995349057803377)]"
      ]
     },
     "execution_count": 53,
     "metadata": {},
     "output_type": "execute_result"
    }
   ],
   "source": [
    "spammiest_hams"
   ]
  },
  {
   "cell_type": "code",
   "execution_count": 54,
   "metadata": {
    "collapsed": true
   },
   "outputs": [],
   "source": [
    "hammiest_spams = filter(lambda row: row[1], classified)[:5]"
   ]
  },
  {
   "cell_type": "code",
   "execution_count": 55,
   "metadata": {
    "collapsed": false
   },
   "outputs": [
    {
     "data": {
      "text/plain": [
       "[('Re: girls', True, 0.0009525186158414719),\n",
       " ('Introducing Chase Platinum for Students with a 0% Introductory APR',\n",
       "  True,\n",
       "  0.0012566691211091483),\n",
       " ('.Message report from your contact page....//ytu855 rkq',\n",
       "  True,\n",
       "  0.0015109358288617229),\n",
       " ('Testing a system, please delete', True, 0.0026920538836874364),\n",
       " ('Never pay for the goodz again (8SimUgQ)', True, 0.00591162322193142)]"
      ]
     },
     "execution_count": 55,
     "metadata": {},
     "output_type": "execute_result"
    }
   ],
   "source": [
    "hammiest_spams"
   ]
  },
  {
   "cell_type": "code",
   "execution_count": 57,
   "metadata": {
    "collapsed": true
   },
   "outputs": [],
   "source": [
    "def p_spam_given_word(word_prob):\n",
    "    \"\"\"calculate p(spam|word)\"\"\"\n",
    "    \n",
    "    word, prob_if_spam, prob_if_not_spam = word_prob\n",
    "    return prob_if_spam / (prob_if_spam + prob_if_not_spam)\n",
    "\n",
    "\n",
    "words = sorted(classifier.word_probs, key = p_spam_given_word)"
   ]
  },
  {
   "cell_type": "code",
   "execution_count": 58,
   "metadata": {
    "collapsed": false
   },
   "outputs": [
    {
     "data": {
      "text/plain": [
       "[('year', 0.028767123287671233, 0.00022893772893772894),\n",
       " ('sale', 0.031506849315068496, 0.00022893772893772894),\n",
       " ('rates', 0.031506849315068496, 0.00022893772893772894),\n",
       " ('systemworks', 0.036986301369863014, 0.00022893772893772894),\n",
       " ('money', 0.03972602739726028, 0.00022893772893772894)]"
      ]
     },
     "execution_count": 58,
     "metadata": {},
     "output_type": "execute_result"
    }
   ],
   "source": [
    "words[-5:]"
   ]
  },
  {
   "cell_type": "code",
   "execution_count": 59,
   "metadata": {
    "collapsed": false
   },
   "outputs": [
    {
     "data": {
      "text/plain": [
       "[('spambayes', 0.0013698630136986301, 0.04601648351648352),\n",
       " ('users', 0.0013698630136986301, 0.036401098901098904),\n",
       " ('razor', 0.0013698630136986301, 0.030906593406593408),\n",
       " ('zzzzteana', 0.0013698630136986301, 0.029075091575091576),\n",
       " ('sadev', 0.0013698630136986301, 0.026785714285714284)]"
      ]
     },
     "execution_count": 59,
     "metadata": {},
     "output_type": "execute_result"
    }
   ],
   "source": [
    "words[:5]"
   ]
  },
  {
   "cell_type": "code",
   "execution_count": null,
   "metadata": {
    "collapsed": true
   },
   "outputs": [],
   "source": []
  }
 ],
 "metadata": {
  "kernelspec": {
   "display_name": "Python 2",
   "language": "python",
   "name": "python2"
  },
  "language_info": {
   "codemirror_mode": {
    "name": "ipython",
    "version": 2
   },
   "file_extension": ".py",
   "mimetype": "text/x-python",
   "name": "python",
   "nbconvert_exporter": "python",
   "pygments_lexer": "ipython2",
   "version": "2.7.5"
  }
 },
 "nbformat": 4,
 "nbformat_minor": 0
}
