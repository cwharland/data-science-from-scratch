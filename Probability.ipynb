{
 "cells": [
  {
   "cell_type": "code",
   "execution_count": 7,
   "metadata": {
    "collapsed": true
   },
   "outputs": [],
   "source": [
    "from __future__ import division"
   ]
  },
  {
   "cell_type": "code",
   "execution_count": 2,
   "metadata": {
    "collapsed": true
   },
   "outputs": [],
   "source": [
    "import random\n",
    "def random_kid():\n",
    "    return random.choice(['boy','girl'])"
   ]
  },
  {
   "cell_type": "code",
   "execution_count": 3,
   "metadata": {
    "collapsed": true
   },
   "outputs": [],
   "source": [
    "both_girls = 0\n",
    "older_girl = 0\n",
    "either_girl = 0"
   ]
  },
  {
   "cell_type": "code",
   "execution_count": 4,
   "metadata": {
    "collapsed": true
   },
   "outputs": [],
   "source": [
    "random.seed(0)\n",
    "\n",
    "for _ in xrange(10000):\n",
    "    younger = random_kid()\n",
    "    older = random_kid()\n",
    "    \n",
    "    if older == 'girl':\n",
    "        older_girl += 1\n",
    "    if older == 'girl' and younger == 'girl':\n",
    "        both_girls += 1\n",
    "    if older == 'girl' or younger == 'girl':\n",
    "        either_girl += 1\n",
    "            "
   ]
  },
  {
   "cell_type": "code",
   "execution_count": 8,
   "metadata": {
    "collapsed": false
   },
   "outputs": [
    {
     "name": "stdout",
     "output_type": "stream",
     "text": [
      "P(both | older): 0.514228456914\n",
      "P(both | either): 0.341541328364\n"
     ]
    }
   ],
   "source": [
    "print 'P(both | older):', both_girls / older_girl\n",
    "print 'P(both | either):', both_girls / either_girl"
   ]
  },
  {
   "cell_type": "code",
   "execution_count": 11,
   "metadata": {
    "collapsed": true
   },
   "outputs": [],
   "source": [
    "def uniform_pdf(x):\n",
    "    return 1 if x >= 0 and x < 1 else 0\n",
    "\n",
    "def uniform_cdf(x):\n",
    "    if x < 0:\n",
    "        return 0\n",
    "    elif x < 1:\n",
    "        return x\n",
    "    else:\n",
    "        return 1"
   ]
  },
  {
   "cell_type": "markdown",
   "metadata": {},
   "source": [
    "### Normal Distribution"
   ]
  },
  {
   "cell_type": "code",
   "execution_count": 14,
   "metadata": {
    "collapsed": true
   },
   "outputs": [],
   "source": [
    "import math\n",
    "def normal_pdf(x, mu = 0, sigma = 1):\n",
    "    sqrt_two_pi = math.sqrt(2 * math.pi)\n",
    "    return (math.exp(-(x-mu)**2/ 2 / sigma**2) / (sqrt_two_pi * sigma))\n",
    "\n",
    "def normal_cdf(x, mu = 0, sigma = 1):\n",
    "    return (1 + math.erf((x - mu) / math.sqrt(2) / sigma)) / 2\n",
    "\n",
    "# binary search to make inverse normal\n",
    "def inverse_normal_cdf(p, mu = 0, sigma = 1, tolerance = 0.0001):\n",
    "    # make sure it's standard normal\n",
    "    if mu != 0 or sigma != 1:\n",
    "        return mu + sigma * inverse_normal_cdf(p, tolerance = tolerance)\n",
    "    "
   ]
  },
  {
   "cell_type": "code",
   "execution_count": null,
   "metadata": {
    "collapsed": true
   },
   "outputs": [],
   "source": []
  }
 ],
 "metadata": {
  "kernelspec": {
   "display_name": "Python 2",
   "language": "python",
   "name": "python2"
  },
  "language_info": {
   "codemirror_mode": {
    "name": "ipython",
    "version": 2
   },
   "file_extension": ".py",
   "mimetype": "text/x-python",
   "name": "python",
   "nbconvert_exporter": "python",
   "pygments_lexer": "ipython2",
   "version": "2.7.9"
  }
 },
 "nbformat": 4,
 "nbformat_minor": 0
}
